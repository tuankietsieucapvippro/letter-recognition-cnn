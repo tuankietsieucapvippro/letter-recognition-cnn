{
  "nbformat": 4,
  "nbformat_minor": 0,
  "metadata": {
    "colab": {
      "provenance": [],
      "gpuType": "T4",
      "authorship_tag": "ABX9TyNB3jjLXNCtmC15yxH+Q7s3",
      "include_colab_link": true
    },
    "kernelspec": {
      "name": "python3",
      "display_name": "Python 3"
    },
    "language_info": {
      "name": "python"
    },
    "accelerator": "GPU"
  },
  "cells": [
    {
      "cell_type": "markdown",
      "metadata": {
        "id": "view-in-github",
        "colab_type": "text"
      },
      "source": [
        "<a href=\"https://colab.research.google.com/github/tuankietsieucapvippro/letter-recognition-cnn/blob/main/ML_AZ.ipynb\" target=\"_parent\"><img src=\"https://colab.research.google.com/assets/colab-badge.svg\" alt=\"Open In Colab\"/></a>"
      ]
    },
    {
      "cell_type": "code",
      "source": [
        "import gdown"
      ],
      "metadata": {
        "id": "LtDB-811yWhM"
      },
      "execution_count": null,
      "outputs": []
    },
    {
      "cell_type": "code",
      "execution_count": null,
      "metadata": {
        "id": "ifdpW1qqxLlH",
        "colab": {
          "base_uri": "https://localhost:8080/"
        },
        "outputId": "a94845d6-e915-428f-d12b-1a4e56bd1764",
        "collapsed": true
      },
      "outputs": [
        {
          "output_type": "stream",
          "name": "stderr",
          "text": [
            "Downloading...\n",
            "From (original): https://drive.google.com/uc?id=1j6QlvUY8A-HV8o9GSwku3F_EZW4lqKjg\n",
            "From (redirected): https://drive.google.com/uc?id=1j6QlvUY8A-HV8o9GSwku3F_EZW4lqKjg&confirm=t&uuid=6c36655f-b07a-4b25-a2e5-42acea39fc5a\n",
            "To: /content/A_Z_Handwritten_Data.csv\n",
            "100%|██████████| 699M/699M [00:05<00:00, 117MB/s]"
          ]
        },
        {
          "output_type": "stream",
          "name": "stdout",
          "text": [
            "Tải file thành công!\n"
          ]
        },
        {
          "output_type": "stream",
          "name": "stderr",
          "text": [
            "\n"
          ]
        }
      ],
      "source": [
        "\n",
        "# ID của file trên Google Drive (lấy từ link chia sẻ)\n",
        "file_id = \"1j6QlvUY8A-HV8o9GSwku3F_EZW4lqKjg\"\n",
        "\n",
        "# Tạo link tải trực tiếp\n",
        "url = f\"https://drive.google.com/uc?id={file_id}\"\n",
        "\n",
        "# Đường dẫn lưu file trong Colab\n",
        "output = \"A_Z_Handwritten_Data.csv\"\n",
        "\n",
        "# Tải file về\n",
        "gdown.download(url, output, quiet=False)\n",
        "\n",
        "print(\"Tải file thành công!\")"
      ]
    },
    {
      "cell_type": "code",
      "source": [
        "import pandas as pd\n",
        "\n",
        "df = pd.read_csv(\"A_Z_Handwritten_Data.csv\")\n",
        "print(df.shape)  # Kiểm tra số dòng và cột\n",
        "print(df.head())  # Hiển thị một số dòng đầu tiên\n"
      ],
      "metadata": {
        "colab": {
          "base_uri": "https://localhost:8080/"
        },
        "id": "rym7o9UFJi5H",
        "outputId": "f9f5b7fe-04b9-4437-def4-6d2478e5ae18"
      },
      "execution_count": null,
      "outputs": [
        {
          "output_type": "stream",
          "name": "stdout",
          "text": [
            "(372450, 785)\n",
            "   0  0.1  0.2  0.3  0.4  0.5  0.6  0.7  0.8  0.9  ...  0.639  0.640  0.641  \\\n",
            "0  0    0    0    0    0    0    0    0    0    0  ...      0      0      0   \n",
            "1  0    0    0    0    0    0    0    0    0    0  ...      0      0      0   \n",
            "2  0    0    0    0    0    0    0    0    0    0  ...      0      0      0   \n",
            "3  0    0    0    0    0    0    0    0    0    0  ...      0      0      0   \n",
            "4  0    0    0    0    0    0    0    0    0    0  ...      0      0      0   \n",
            "\n",
            "   0.642  0.643  0.644  0.645  0.646  0.647  0.648  \n",
            "0      0      0      0      0      0      0      0  \n",
            "1      0      0      0      0      0      0      0  \n",
            "2      0      0      0      0      0      0      0  \n",
            "3      0      0      0      0      0      0      0  \n",
            "4      0      0      0      0      0      0      0  \n",
            "\n",
            "[5 rows x 785 columns]\n"
          ]
        }
      ]
    },
    {
      "cell_type": "code",
      "source": [
        "import pandas as pd\n",
        "\n",
        "# Xem vài dòng đầu tiên\n",
        "print(df.head())\n",
        "\n",
        "# Kiểm tra kích thước dataset\n",
        "print(\"Dataset shape:\", df.shape)\n",
        "\n",
        "# Kiểm tra giá trị bị thiếu\n",
        "print(\"Missing values:\\n\", df.isnull().sum().sum())\n",
        "\n",
        "# Kiểm tra kiểu dữ liệu\n",
        "print(df.dtypes)\n"
      ],
      "metadata": {
        "id": "XtMiJI2X1YAc",
        "colab": {
          "base_uri": "https://localhost:8080/"
        },
        "outputId": "59f18173-1eed-4862-dae5-65cc1558675f"
      },
      "execution_count": null,
      "outputs": [
        {
          "output_type": "stream",
          "name": "stdout",
          "text": [
            "   0  0.1  0.2  0.3  0.4  0.5  0.6  0.7  0.8  0.9  ...  0.639  0.640  0.641  \\\n",
            "0  0    0    0    0    0    0    0    0    0    0  ...      0      0      0   \n",
            "1  0    0    0    0    0    0    0    0    0    0  ...      0      0      0   \n",
            "2  0    0    0    0    0    0    0    0    0    0  ...      0      0      0   \n",
            "3  0    0    0    0    0    0    0    0    0    0  ...      0      0      0   \n",
            "4  0    0    0    0    0    0    0    0    0    0  ...      0      0      0   \n",
            "\n",
            "   0.642  0.643  0.644  0.645  0.646  0.647  0.648  \n",
            "0      0      0      0      0      0      0      0  \n",
            "1      0      0      0      0      0      0      0  \n",
            "2      0      0      0      0      0      0      0  \n",
            "3      0      0      0      0      0      0      0  \n",
            "4      0      0      0      0      0      0      0  \n",
            "\n",
            "[5 rows x 785 columns]\n",
            "Dataset shape: (372450, 785)\n",
            "Missing values:\n",
            " 0\n",
            "0        int64\n",
            "0.1      int64\n",
            "0.2      int64\n",
            "0.3      int64\n",
            "0.4      int64\n",
            "         ...  \n",
            "0.644    int64\n",
            "0.645    int64\n",
            "0.646    int64\n",
            "0.647    int64\n",
            "0.648    int64\n",
            "Length: 785, dtype: object\n"
          ]
        }
      ]
    },
    {
      "cell_type": "code",
      "source": [
        "import numpy as np\n",
        "\n",
        "# Xác định nhãn\n",
        "labels = df.iloc[:, 0]\n",
        "print(\"Số lượng mỗi chữ cái:\")\n",
        "print(labels.value_counts())\n",
        "\n",
        "# Kiểm tra một dòng dữ liệu\n",
        "print(\"\\nVí dụ một dòng dữ liệu:\")\n",
        "print(df.iloc[0, 1:].values.reshape(28, 28))  # Chuyển về ma trận 28x28\n"
      ],
      "metadata": {
        "id": "SvbqqYdY1lk0",
        "colab": {
          "base_uri": "https://localhost:8080/"
        },
        "outputId": "519bc03a-20c0-443e-cdb0-d4f5d9e98bca"
      },
      "execution_count": null,
      "outputs": [
        {
          "output_type": "stream",
          "name": "stdout",
          "text": [
            "Số lượng mỗi chữ cái:\n",
            "0\n",
            "14    57825\n",
            "18    48419\n",
            "20    29008\n",
            "2     23409\n",
            "19    22495\n",
            "15    19341\n",
            "13    19010\n",
            "0     13869\n",
            "12    12336\n",
            "11    11586\n",
            "17    11566\n",
            "4     11440\n",
            "24    10859\n",
            "22    10784\n",
            "3     10134\n",
            "1      8668\n",
            "9      8493\n",
            "7      7218\n",
            "23     6272\n",
            "25     6076\n",
            "16     5812\n",
            "6      5762\n",
            "10     5603\n",
            "21     4182\n",
            "5      1163\n",
            "8      1120\n",
            "Name: count, dtype: int64\n",
            "\n",
            "Ví dụ một dòng dữ liệu:\n",
            "[[  0   0   0   0   0   0   0   0   0   0   0   0   0   0   0   0   0   0\n",
            "    0   0   0   0   0   0   0   0   0   0]\n",
            " [  0   0   0   0   0   0   0   0   0   0   0   0   0   0   0   0   0   0\n",
            "    0   0   0   0   0   0   0   0   0   0]\n",
            " [  0   0   0   0   0   0   0   0   0   0   0   0   0   0   0   0   0   0\n",
            "    0   0   0   0   0   0   0   0   0   0]\n",
            " [  0   0   0   0   0   0   0   0   0   0   0   0   0   0   0   0   0   0\n",
            "    0   0   0   0   0   0   0   0   0   0]\n",
            " [  0   0   0   0   0   0   0   0   0   0   0   0   0   0   0   0   2 177\n",
            "  255 188  13   0   0   0   0   0   0   0]\n",
            " [  0   0   0   0   0   0   0   0   0   0   0   0   0   0   0   0 130 255\n",
            "  255 255 161   0   0   0   0   0   0   0]\n",
            " [  0   0   0   0   0   0   0   0   0   0   0   0   0   0   3  55 242 255\n",
            "  246 255 249  46   0   0   0   0   0   0]\n",
            " [  0   0   0   0   0   0   0   0   0   0   0   0   0   0 139 255 255 192\n",
            "  112 255 255 219   0   0   0   0   0   0]\n",
            " [  0   0   0   0   0   0   0   0   0   0   0   0   0  89 255 255 255  94\n",
            "   55 249 255 255   0   0   0   0   0   0]\n",
            " [  0   0   0   0   0   0   0   0   0   0   0   0  57 238 255 255 229  39\n",
            "   78 253 255 255   0   0   0   0   0   0]\n",
            " [  0   0   0   0   0   0   0   0   0   0   0   0 174 255 255 228  45   0\n",
            "    0 242 255 174   0   0   0   0   0   0]\n",
            " [  0   0   0   0   0   0   0   0   0   0   0 132 248 255 243 115   0   0\n",
            "    8 243 255  94   0   0   0   0   0   0]\n",
            " [  0   0   0   0   0   0   0   0   0   0  23 245 255 255 206 170  45   0\n",
            "   94 255 255  40   0   0   0   0   0   0]\n",
            " [  0   0   0   0   0   0   0   0   0   0 183 255 255 255 255 255 235 145\n",
            "  161 255 255  40   0   0   0   0   0   0]\n",
            " [  0   0   0   0   0   0   0   0   0  54 255 255 255 192 219 255 255 255\n",
            "  255 255 255  40   0   0   0   0   0   0]\n",
            " [  0   0   0   0   0   0   0   0   4 166 255 255 255  67  10  64 159 224\n",
            "  255 255 233  27   0   0   0   0   0   0]\n",
            " [  0   0   0   0   0   0   0   0 112 255 255 255 185   3   0   0   0 161\n",
            "  255 242  49   0   0   0   0   0   0   0]\n",
            " [  0   0   0   0   0   0   0  20 199 255 255 255  81   0   0   0   0 161\n",
            "  255 228   0   0   0   0   0   0   0   0]\n",
            " [  0   0   0   0   0   0   0 170 255 255 255 233  13   0   0   0   0 161\n",
            "  255 228   0   0   0   0   0   0   0   0]\n",
            " [  0   0   0   0   0   0  23 227 255 255 255 210   0   0   0   0  31 255\n",
            "  255 121   0   0   0   0   0   0   0   0]\n",
            " [  0   0   0   0   0   0 121 255 255 255 255  40   0   0   0   0 201 255\n",
            "  255  40   0   0   0   0   0   0   0   0]\n",
            " [  0   0   0   0   0   0 246 255 255 219  88   1   0   0   0   7 230 255\n",
            "  169   1   0   0   0   0   0   0   0   0]\n",
            " [  0   0   0   0   0   0 255 255 219  31   0   0   0   0   0 152 255 255\n",
            "   89   0   0   0   0   0   0   0   0   0]\n",
            " [  0   0   0   0   0   0 104 149  34   0   0   0   0   0   0  98 255 233\n",
            "   31   0   0   0   0   0   0   0   0   0]\n",
            " [  0   0   0   0   0   0   0   0   0   0   0   0   0   0   0   0   0   0\n",
            "    0   0   0   0   0   0   0   0   0   0]\n",
            " [  0   0   0   0   0   0   0   0   0   0   0   0   0   0   0   0   0   0\n",
            "    0   0   0   0   0   0   0   0   0   0]\n",
            " [  0   0   0   0   0   0   0   0   0   0   0   0   0   0   0   0   0   0\n",
            "    0   0   0   0   0   0   0   0   0   0]\n",
            " [  0   0   0   0   0   0   0   0   0   0   0   0   0   0   0   0   0   0\n",
            "    0   0   0   0   0   0   0   0   0   0]]\n"
          ]
        }
      ]
    },
    {
      "cell_type": "code",
      "source": [
        "import matplotlib.pyplot as plt\n",
        "\n",
        "# Hiển thị 5 hình ảnh ngẫu nhiên\n",
        "fig, axes = plt.subplots(1, 5, figsize=(10, 4))\n",
        "\n",
        "for i, ax in enumerate(axes):\n",
        "    img = df.iloc[i, 1:].values.reshape(28, 28)  # Lấy dòng i và reshape thành ảnh\n",
        "    ax.imshow(img, cmap='gray')\n",
        "    ax.set_title(f\"Label: {chr(labels.iloc[i] + 65)}\")  # Chuyển số thành chữ cái\n",
        "    ax.axis(\"off\")\n",
        "\n",
        "plt.show()\n"
      ],
      "metadata": {
        "id": "BPRaLo_x1qpf",
        "colab": {
          "base_uri": "https://localhost:8080/",
          "height": 192
        },
        "outputId": "0fe2666b-0ceb-43f1-c87c-ece6bb223adb"
      },
      "execution_count": null,
      "outputs": [
        {
          "output_type": "display_data",
          "data": {
            "text/plain": [
              "<Figure size 1000x400 with 5 Axes>"
            ],
            "image/png": "[encoded data removed]"
          },
          "metadata": {}
        }
      ]
    },
    {
      "cell_type": "code",
      "source": [
        "from sklearn.model_selection import train_test_split\n",
        "from tensorflow.keras.utils import to_categorical\n",
        "\n",
        "# Tách features và labels\n",
        "X = df.iloc[:, 1:].values / 255.0  # Chia cho 255 để chuẩn hóa\n",
        "y = to_categorical(df.iloc[:, 0].values, num_classes=26)  # One-hot encoding\n",
        "\n",
        "# Chia tập train/test\n",
        "X_train, X_test, y_train, y_test = train_test_split(X, y, test_size=0.2, random_state=42)\n",
        "\n",
        "print(\"Train shape:\", X_train.shape, y_train.shape)\n",
        "print(\"Test shape:\", X_test.shape, y_test.shape)\n"
      ],
      "metadata": {
        "id": "CTkaT4dv1u3V",
        "colab": {
          "base_uri": "https://localhost:8080/"
        },
        "outputId": "eb595e04-047f-48eb-c0b5-f73cb86349c1"
      },
      "execution_count": null,
      "outputs": [
        {
          "output_type": "stream",
          "name": "stdout",
          "text": [
            "Train shape: (297960, 784) (297960, 26)\n",
            "Test shape: (74490, 784) (74490, 26)\n"
          ]
        }
      ]
    },
    {
      "cell_type": "code",
      "source": [
        "from tensorflow.keras.models import Sequential\n",
        "from tensorflow.keras.layers import Conv2D, MaxPooling2D, Flatten, Dense, Dropout, Reshape\n",
        "\n",
        "# Xây dựng mô hình CNN\n",
        "model = Sequential([\n",
        "    Reshape((28, 28, 1), input_shape=(784,)),  # Chuyển thành ảnh 28x28\n",
        "    Conv2D(32, kernel_size=(3,3), activation='relu'),\n",
        "    MaxPooling2D(pool_size=(2,2)),\n",
        "    Conv2D(64, kernel_size=(3,3), activation='relu'),\n",
        "    MaxPooling2D(pool_size=(2,2)),\n",
        "    Flatten(),\n",
        "    Dense(128, activation='relu'),\n",
        "    Dropout(0.5),\n",
        "    Dense(26, activation='softmax')  # 26 lớp output cho A-Z\n",
        "])\n",
        "\n",
        "# Compile model\n",
        "model.compile(loss='categorical_crossentropy', optimizer='adam', metrics=['accuracy'])\n",
        "\n",
        "# Hiển thị kiến trúc model\n",
        "model.summary()\n"
      ],
      "metadata": {
        "id": "KOgV2r6I185D",
        "colab": {
          "base_uri": "https://localhost:8080/",
          "height": 497
        },
        "outputId": "cc0c30f5-5fb1-4747-f41b-7e1aeeda929a"
      },
      "execution_count": null,
      "outputs": [
        {
          "output_type": "stream",
          "name": "stderr",
          "text": [
            "/usr/local/lib/python3.11/dist-packages/keras/src/layers/reshaping/reshape.py:39: UserWarning: Do not pass an `input_shape`/`input_dim` argument to a layer. When using Sequential models, prefer using an `Input(shape)` object as the first layer in the model instead.\n",
            "  super().__init__(**kwargs)\n"
          ]
        },
        {
          "output_type": "display_data",
          "data": {
            "text/plain": [
              "\u001b[1mModel: \"sequential\"\u001b[0m\n"
            ],
            "text/html": [
              "<pre style=\"white-space:pre;overflow-x:auto;line-height:normal;font-family:Menlo,'DejaVu Sans Mono',consolas,'Courier New',monospace\"><span style=\"font-weight: bold\">Model: \"sequential\"</span>\n",
              "</pre>\n"
            ]
          },
          "metadata": {}
        },
        {
          "output_type": "display_data",
          "data": {
            "text/plain": [
              "┏━━━━━━━━━━━━━━━━━━━━━━━━━━━━━━━━━━━━━━┳━━━━━━━━━━━━━━━━━━━━━━━━━━━━━┳━━━━━━━━━━━━━━━━━┓\n",
              "┃\u001b[1m \u001b[0m\u001b[1mLayer (type)                        \u001b[0m\u001b[1m \u001b[0m┃\u001b[1m \u001b[0m\u001b[1mOutput Shape               \u001b[0m\u001b[1m \u001b[0m┃\u001b[1m \u001b[0m\u001b[1m        Param #\u001b[0m\u001b[1m \u001b[0m┃\n",
              "┡━━━━━━━━━━━━━━━━━━━━━━━━━━━━━━━━━━━━━━╇━━━━━━━━━━━━━━━━━━━━━━━━━━━━━╇━━━━━━━━━━━━━━━━━┩\n",
              "│ reshape (\u001b[38;5;33mReshape\u001b[0m)                    │ (\u001b[38;5;45mNone\u001b[0m, \u001b[38;5;34m28\u001b[0m, \u001b[38;5;34m28\u001b[0m, \u001b[38;5;34m1\u001b[0m)           │               \u001b[38;5;34m0\u001b[0m │\n",
              "├──────────────────────────────────────┼─────────────────────────────┼─────────────────┤\n",
              "│ conv2d (\u001b[38;5;33mConv2D\u001b[0m)                      │ (\u001b[38;5;45mNone\u001b[0m, \u001b[38;5;34m26\u001b[0m, \u001b[38;5;34m26\u001b[0m, \u001b[38;5;34m32\u001b[0m)          │             \u001b[38;5;34m320\u001b[0m │\n",
              "├──────────────────────────────────────┼─────────────────────────────┼─────────────────┤\n",
              "│ max_pooling2d (\u001b[38;5;33mMaxPooling2D\u001b[0m)         │ (\u001b[38;5;45mNone\u001b[0m, \u001b[38;5;34m13\u001b[0m, \u001b[38;5;34m13\u001b[0m, \u001b[38;5;34m32\u001b[0m)          │               \u001b[38;5;34m0\u001b[0m │\n",
              "├──────────────────────────────────────┼─────────────────────────────┼─────────────────┤\n",
              "│ conv2d_1 (\u001b[38;5;33mConv2D\u001b[0m)                    │ (\u001b[38;5;45mNone\u001b[0m, \u001b[38;5;34m11\u001b[0m, \u001b[38;5;34m11\u001b[0m, \u001b[38;5;34m64\u001b[0m)          │          \u001b[38;5;34m18,496\u001b[0m │\n",
              "├──────────────────────────────────────┼─────────────────────────────┼─────────────────┤\n",
              "│ max_pooling2d_1 (\u001b[38;5;33mMaxPooling2D\u001b[0m)       │ (\u001b[38;5;45mNone\u001b[0m, \u001b[38;5;34m5\u001b[0m, \u001b[38;5;34m5\u001b[0m, \u001b[38;5;34m64\u001b[0m)            │               \u001b[38;5;34m0\u001b[0m │\n",
              "├──────────────────────────────────────┼─────────────────────────────┼─────────────────┤\n",
              "│ flatten (\u001b[38;5;33mFlatten\u001b[0m)                    │ (\u001b[38;5;45mNone\u001b[0m, \u001b[38;5;34m1600\u001b[0m)                │               \u001b[38;5;34m0\u001b[0m │\n",
              "├──────────────────────────────────────┼─────────────────────────────┼─────────────────┤\n",
              "│ dense (\u001b[38;5;33mDense\u001b[0m)                        │ (\u001b[38;5;45mNone\u001b[0m, \u001b[38;5;34m128\u001b[0m)                 │         \u001b[38;5;34m204,928\u001b[0m │\n",
              "├──────────────────────────────────────┼─────────────────────────────┼─────────────────┤\n",
              "│ dropout (\u001b[38;5;33mDropout\u001b[0m)                    │ (\u001b[38;5;45mNone\u001b[0m, \u001b[38;5;34m128\u001b[0m)                 │               \u001b[38;5;34m0\u001b[0m │\n",
              "├──────────────────────────────────────┼─────────────────────────────┼─────────────────┤\n",
              "│ dense_1 (\u001b[38;5;33mDense\u001b[0m)                      │ (\u001b[38;5;45mNone\u001b[0m, \u001b[38;5;34m26\u001b[0m)                  │           \u001b[38;5;34m3,354\u001b[0m │\n",
              "└──────────────────────────────────────┴─────────────────────────────┴─────────────────┘\n"
            ],
            "text/html": [
              "<pre style=\"white-space:pre;overflow-x:auto;line-height:normal;font-family:Menlo,'DejaVu Sans Mono',consolas,'Courier New',monospace\">┏━━━━━━━━━━━━━━━━━━━━━━━━━━━━━━━━━━━━━━┳━━━━━━━━━━━━━━━━━━━━━━━━━━━━━┳━━━━━━━━━━━━━━━━━┓\n",
              "┃<span style=\"font-weight: bold\"> Layer (type)                         </span>┃<span style=\"font-weight: bold\"> Output Shape                </span>┃<span style=\"font-weight: bold\">         Param # </span>┃\n",
              "┡━━━━━━━━━━━━━━━━━━━━━━━━━━━━━━━━━━━━━━╇━━━━━━━━━━━━━━━━━━━━━━━━━━━━━╇━━━━━━━━━━━━━━━━━┩\n",
              "│ reshape (<span style=\"color: #0087ff; text-decoration-color: #0087ff\">Reshape</span>)                    │ (<span style=\"color: #00d7ff; text-decoration-color: #00d7ff\">None</span>, <span style=\"color: #00af00; text-decoration-color: #00af00\">28</span>, <span style=\"color: #00af00; text-decoration-color: #00af00\">28</span>, <span style=\"color: #00af00; text-decoration-color: #00af00\">1</span>)           │               <span style=\"color: #00af00; text-decoration-color: #00af00\">0</span> │\n",
              "├──────────────────────────────────────┼─────────────────────────────┼─────────────────┤\n",
              "│ conv2d (<span style=\"color: #0087ff; text-decoration-color: #0087ff\">Conv2D</span>)                      │ (<span style=\"color: #00d7ff; text-decoration-color: #00d7ff\">None</span>, <span style=\"color: #00af00; text-decoration-color: #00af00\">26</span>, <span style=\"color: #00af00; text-decoration-color: #00af00\">26</span>, <span style=\"color: #00af00; text-decoration-color: #00af00\">32</span>)          │             <span style=\"color: #00af00; text-decoration-color: #00af00\">320</span> │\n",
              "├──────────────────────────────────────┼─────────────────────────────┼─────────────────┤\n",
              "│ max_pooling2d (<span style=\"color: #0087ff; text-decoration-color: #0087ff\">MaxPooling2D</span>)         │ (<span style=\"color: #00d7ff; text-decoration-color: #00d7ff\">None</span>, <span style=\"color: #00af00; text-decoration-color: #00af00\">13</span>, <span style=\"color: #00af00; text-decoration-color: #00af00\">13</span>, <span style=\"color: #00af00; text-decoration-color: #00af00\">32</span>)          │               <span style=\"color: #00af00; text-decoration-color: #00af00\">0</span> │\n",
              "├──────────────────────────────────────┼─────────────────────────────┼─────────────────┤\n",
              "│ conv2d_1 (<span style=\"color: #0087ff; text-decoration-color: #0087ff\">Conv2D</span>)                    │ (<span style=\"color: #00d7ff; text-decoration-color: #00d7ff\">None</span>, <span style=\"color: #00af00; text-decoration-color: #00af00\">11</span>, <span style=\"color: #00af00; text-decoration-color: #00af00\">11</span>, <span style=\"color: #00af00; text-decoration-color: #00af00\">64</span>)          │          <span style=\"color: #00af00; text-decoration-color: #00af00\">18,496</span> │\n",
              "├──────────────────────────────────────┼─────────────────────────────┼─────────────────┤\n",
              "│ max_pooling2d_1 (<span style=\"color: #0087ff; text-decoration-color: #0087ff\">MaxPooling2D</span>)       │ (<span style=\"color: #00d7ff; text-decoration-color: #00d7ff\">None</span>, <span style=\"color: #00af00; text-decoration-color: #00af00\">5</span>, <span style=\"color: #00af00; text-decoration-color: #00af00\">5</span>, <span style=\"color: #00af00; text-decoration-color: #00af00\">64</span>)            │               <span style=\"color: #00af00; text-decoration-color: #00af00\">0</span> │\n",
              "├──────────────────────────────────────┼─────────────────────────────┼─────────────────┤\n",
              "│ flatten (<span style=\"color: #0087ff; text-decoration-color: #0087ff\">Flatten</span>)                    │ (<span style=\"color: #00d7ff; text-decoration-color: #00d7ff\">None</span>, <span style=\"color: #00af00; text-decoration-color: #00af00\">1600</span>)                │               <span style=\"color: #00af00; text-decoration-color: #00af00\">0</span> │\n",
              "├──────────────────────────────────────┼─────────────────────────────┼─────────────────┤\n",
              "│ dense (<span style=\"color: #0087ff; text-decoration-color: #0087ff\">Dense</span>)                        │ (<span style=\"color: #00d7ff; text-decoration-color: #00d7ff\">None</span>, <span style=\"color: #00af00; text-decoration-color: #00af00\">128</span>)                 │         <span style=\"color: #00af00; text-decoration-color: #00af00\">204,928</span> │\n",
              "├──────────────────────────────────────┼─────────────────────────────┼─────────────────┤\n",
              "│ dropout (<span style=\"color: #0087ff; text-decoration-color: #0087ff\">Dropout</span>)                    │ (<span style=\"color: #00d7ff; text-decoration-color: #00d7ff\">None</span>, <span style=\"color: #00af00; text-decoration-color: #00af00\">128</span>)                 │               <span style=\"color: #00af00; text-decoration-color: #00af00\">0</span> │\n",
              "├──────────────────────────────────────┼─────────────────────────────┼─────────────────┤\n",
              "│ dense_1 (<span style=\"color: #0087ff; text-decoration-color: #0087ff\">Dense</span>)                      │ (<span style=\"color: #00d7ff; text-decoration-color: #00d7ff\">None</span>, <span style=\"color: #00af00; text-decoration-color: #00af00\">26</span>)                  │           <span style=\"color: #00af00; text-decoration-color: #00af00\">3,354</span> │\n",
              "└──────────────────────────────────────┴─────────────────────────────┴─────────────────┘\n",
              "</pre>\n"
            ]
          },
          "metadata": {}
        },
        {
          "output_type": "display_data",
          "data": {
            "text/plain": [
              "\u001b[1m Total params: \u001b[0m\u001b[38;5;34m227,098\u001b[0m (887.10 KB)\n"
            ],
            "text/html": [
              "<pre style=\"white-space:pre;overflow-x:auto;line-height:normal;font-family:Menlo,'DejaVu Sans Mono',consolas,'Courier New',monospace\"><span style=\"font-weight: bold\"> Total params: </span><span style=\"color: #00af00; text-decoration-color: #00af00\">227,098</span> (887.10 KB)\n",
              "</pre>\n"
            ]
          },
          "metadata": {}
        },
        {
          "output_type": "display_data",
          "data": {
            "text/plain": [
              "\u001b[1m Trainable params: \u001b[0m\u001b[38;5;34m227,098\u001b[0m (887.10 KB)\n"
            ],
            "text/html": [
              "<pre style=\"white-space:pre;overflow-x:auto;line-height:normal;font-family:Menlo,'DejaVu Sans Mono',consolas,'Courier New',monospace\"><span style=\"font-weight: bold\"> Trainable params: </span><span style=\"color: #00af00; text-decoration-color: #00af00\">227,098</span> (887.10 KB)\n",
              "</pre>\n"
            ]
          },
          "metadata": {}
        },
        {
          "output_type": "display_data",
          "data": {
            "text/plain": [
              "\u001b[1m Non-trainable params: \u001b[0m\u001b[38;5;34m0\u001b[0m (0.00 B)\n"
            ],
            "text/html": [
              "<pre style=\"white-space:pre;overflow-x:auto;line-height:normal;font-family:Menlo,'DejaVu Sans Mono',consolas,'Courier New',monospace\"><span style=\"font-weight: bold\"> Non-trainable params: </span><span style=\"color: #00af00; text-decoration-color: #00af00\">0</span> (0.00 B)\n",
              "</pre>\n"
            ]
          },
          "metadata": {}
        }
      ]
    },
    {
      "cell_type": "code",
      "source": [
        "history = model.fit(X_train, y_train, epochs=10, batch_size=128, validation_data=(X_test, y_test))\n"
      ],
      "metadata": {
        "id": "uzTNO3Sz2DlP",
        "colab": {
          "base_uri": "https://localhost:8080/"
        },
        "outputId": "e847ec5b-023c-44e0-c350-a508fe54b16f"
      },
      "execution_count": null,
      "outputs": [
        {
          "output_type": "stream",
          "name": "stdout",
          "text": [
            "Epoch 1/10\n",
            "\u001b[1m2328/2328\u001b[0m \u001b[32m━━━━━━━━━━━━━━━━━━━━\u001b[0m\u001b[37m\u001b[0m \u001b[1m21s\u001b[0m 6ms/step - accuracy: 0.8133 - loss: 0.6555 - val_accuracy: 0.9776 - val_loss: 0.0806\n",
            "Epoch 2/10\n",
            "\u001b[1m2328/2328\u001b[0m \u001b[32m━━━━━━━━━━━━━━━━━━━━\u001b[0m\u001b[37m\u001b[0m \u001b[1m11s\u001b[0m 4ms/step - accuracy: 0.9566 - loss: 0.1535 - val_accuracy: 0.9839 - val_loss: 0.0592\n",
            "Epoch 3/10\n",
            "\u001b[1m2328/2328\u001b[0m \u001b[32m━━━━━━━━━━━━━━━━━━━━\u001b[0m\u001b[37m\u001b[0m \u001b[1m11s\u001b[0m 4ms/step - accuracy: 0.9677 - loss: 0.1150 - val_accuracy: 0.9849 - val_loss: 0.0547\n",
            "Epoch 4/10\n",
            "\u001b[1m2328/2328\u001b[0m \u001b[32m━━━━━━━━━━━━━━━━━━━━\u001b[0m\u001b[37m\u001b[0m \u001b[1m10s\u001b[0m 4ms/step - accuracy: 0.9746 - loss: 0.0914 - val_accuracy: 0.9879 - val_loss: 0.0447\n",
            "Epoch 5/10\n",
            "\u001b[1m2328/2328\u001b[0m \u001b[32m━━━━━━━━━━━━━━━━━━━━\u001b[0m\u001b[37m\u001b[0m \u001b[1m20s\u001b[0m 4ms/step - accuracy: 0.9773 - loss: 0.0783 - val_accuracy: 0.9886 - val_loss: 0.0420\n",
            "Epoch 6/10\n",
            "\u001b[1m2328/2328\u001b[0m \u001b[32m━━━━━━━━━━━━━━━━━━━━\u001b[0m\u001b[37m\u001b[0m \u001b[1m20s\u001b[0m 4ms/step - accuracy: 0.9806 - loss: 0.0687 - val_accuracy: 0.9896 - val_loss: 0.0388\n",
            "Epoch 7/10\n",
            "\u001b[1m2328/2328\u001b[0m \u001b[32m━━━━━━━━━━━━━━━━━━━━\u001b[0m\u001b[37m\u001b[0m \u001b[1m10s\u001b[0m 4ms/step - accuracy: 0.9818 - loss: 0.0621 - val_accuracy: 0.9911 - val_loss: 0.0360\n",
            "Epoch 8/10\n",
            "\u001b[1m2328/2328\u001b[0m \u001b[32m━━━━━━━━━━━━━━━━━━━━\u001b[0m\u001b[37m\u001b[0m \u001b[1m10s\u001b[0m 4ms/step - accuracy: 0.9836 - loss: 0.0563 - val_accuracy: 0.9912 - val_loss: 0.0343\n",
            "Epoch 9/10\n",
            "\u001b[1m2328/2328\u001b[0m \u001b[32m━━━━━━━━━━━━━━━━━━━━\u001b[0m\u001b[37m\u001b[0m \u001b[1m10s\u001b[0m 4ms/step - accuracy: 0.9852 - loss: 0.0511 - val_accuracy: 0.9908 - val_loss: 0.0371\n",
            "Epoch 10/10\n",
            "\u001b[1m2328/2328\u001b[0m \u001b[32m━━━━━━━━━━━━━━━━━━━━\u001b[0m\u001b[37m\u001b[0m \u001b[1m10s\u001b[0m 4ms/step - accuracy: 0.9857 - loss: 0.0481 - val_accuracy: 0.9926 - val_loss: 0.0321\n"
          ]
        }
      ]
    },
    {
      "cell_type": "code",
      "source": [
        "test_loss, test_acc = model.evaluate(X_test, y_test)\n",
        "print(f\"Độ chính xác trên tập test: {test_acc * 100:.2f}%\")\n"
      ],
      "metadata": {
        "id": "mslK_m1c22wa",
        "colab": {
          "base_uri": "https://localhost:8080/"
        },
        "outputId": "ad98c8be-a11e-480c-ba26-b4a29a839906"
      },
      "execution_count": null,
      "outputs": [
        {
          "output_type": "stream",
          "name": "stdout",
          "text": [
            "\u001b[1m2328/2328\u001b[0m \u001b[32m━━━━━━━━━━━━━━━━━━━━\u001b[0m\u001b[37m\u001b[0m \u001b[1m6s\u001b[0m 2ms/step - accuracy: 0.9922 - loss: 0.0330\n",
            "Độ chính xác trên tập test: 99.26%\n"
          ]
        }
      ]
    },
    {
      "cell_type": "code",
      "source": [
        "import random\n",
        "\n",
        "# Chọn ngẫu nhiên 5 mẫu từ tập test\n",
        "num_samples = 5\n",
        "indices = random.sample(range(len(X_test)), num_samples)\n",
        "\n",
        "fig, axes = plt.subplots(1, num_samples, figsize=(12, 4))\n",
        "\n",
        "for i, idx in enumerate(indices):\n",
        "    img = X_test[idx].reshape(28, 28)  # Reshape về ảnh 28x28\n",
        "    true_label = chr(np.argmax(y_test[idx]) + 65)  # Chuyển one-hot về chữ cái\n",
        "    pred_label = chr(np.argmax(model.predict(X_test[idx].reshape(1, -1))) + 65)  # Dự đoán\n",
        "\n",
        "    axes[i].imshow(img, cmap=\"gray\")\n",
        "    axes[i].set_title(f\"True: {true_label}\\nPred: {pred_label}\")\n",
        "    axes[i].axis(\"off\")\n",
        "\n",
        "plt.show()\n"
      ],
      "metadata": {
        "id": "rUeJ-9nK3ddl",
        "colab": {
          "base_uri": "https://localhost:8080/",
          "height": 327
        },
        "outputId": "1ed631ee-9c39-4e90-8533-c714155baee3"
      },
      "execution_count": null,
      "outputs": [
        {
          "output_type": "stream",
          "name": "stdout",
          "text": [
            "\u001b[1m1/1\u001b[0m \u001b[32m━━━━━━━━━━━━━━━━━━━━\u001b[0m\u001b[37m\u001b[0m \u001b[1m0s\u001b[0m 445ms/step\n",
            "\u001b[1m1/1\u001b[0m \u001b[32m━━━━━━━━━━━━━━━━━━━━\u001b[0m\u001b[37m\u001b[0m \u001b[1m0s\u001b[0m 28ms/step\n",
            "\u001b[1m1/1\u001b[0m \u001b[32m━━━━━━━━━━━━━━━━━━━━\u001b[0m\u001b[37m\u001b[0m \u001b[1m0s\u001b[0m 27ms/step\n",
            "\u001b[1m1/1\u001b[0m \u001b[32m━━━━━━━━━━━━━━━━━━━━\u001b[0m\u001b[37m\u001b[0m \u001b[1m0s\u001b[0m 27ms/step\n",
            "\u001b[1m1/1\u001b[0m \u001b[32m━━━━━━━━━━━━━━━━━━━━\u001b[0m\u001b[37m\u001b[0m \u001b[1m0s\u001b[0m 27ms/step\n"
          ]
        },
        {
          "output_type": "display_data",
          "data": {
            "text/plain": [
              "<Figure size 1200x400 with 5 Axes>"
            ],
            "image/png": "[encoded data removed]"
          },
          "metadata": {}
        }
      ]
    },
    {
      "cell_type": "code",
      "source": [
        "import cv2\n",
        "import numpy as np\n",
        "\n",
        "# Đọc ảnh grayscale\n",
        "img = cv2.imread('/content/sample.png', cv2.IMREAD_GRAYSCALE)\n",
        "\n",
        "# Resize về 28x28\n",
        "img = cv2.resize(img, (28, 28))\n",
        "\n",
        "# Đảo màu nếu cần (nền đen chữ trắng)\n",
        "img = cv2.bitwise_not(img)\n",
        "\n",
        "# Chuyển về tensor 1D và chuẩn hóa\n",
        "img = img.reshape(1, 784) / 255.0\n",
        "\n",
        "# Dự đoán\n",
        "prediction = model.predict(img)\n",
        "pred_label = chr(np.argmax(prediction) + 65)\n",
        "\n",
        "print(f\"Chữ dự đoán: {pred_label}\")\n",
        "import matplotlib.pyplot as plt\n",
        "\n",
        "# Hiển thị ảnh\n",
        "plt.imshow(cv2.imread('/content/sample.png', cv2.IMREAD_GRAYSCALE), cmap=\"gray\")\n",
        "plt.title(f\"Predicted: {pred_label}\")\n",
        "plt.axis(\"off\")  # Ẩn trục\n",
        "plt.show()"
      ],
      "metadata": {
        "id": "74DUwRgp3kPt",
        "colab": {
          "base_uri": "https://localhost:8080/"
        },
        "outputId": "f571fba1-2066-4390-a433-92eb0ecfb29e"
      },
      "execution_count": null,
      "outputs": [
        {
          "output_type": "stream",
          "name": "stdout",
          "text": [
            "\u001b[1m1/1\u001b[0m \u001b[32m━━━━━━━━━━━━━━━━━━━━\u001b[0m\u001b[37m\u001b[0m \u001b[1m0s\u001b[0m 48ms/step\n",
            "Chữ dự đoán: K\n"
          ]
        }
      ]
    }
  ]
}